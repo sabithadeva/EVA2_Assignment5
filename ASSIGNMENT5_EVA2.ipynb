{
  "nbformat": 4,
  "nbformat_minor": 0,
  "metadata": {
    "colab": {
      "name": "ASSIGNMENT5_EVA2",
      "provenance": [],
      "collapsed_sections": []
    },
    "kernelspec": {
      "name": "python3",
      "display_name": "Python 3"
    },
    "accelerator": "GPU"
  },
  "cells": [
    {
      "cell_type": "markdown",
      "metadata": {
        "id": "2--Zg1IsUBsO",
        "colab_type": "text"
      },
      "source": [
        "**Importing the numpy, keras libraries for mathematical computational and building convolutional neural network respectively**\n",
        "\n",
        "**Importing MNIST dataset**\n",
        "\n",
        "**Importing Image data generator library for image augmentation - image normalization**"
      ]
    },
    {
      "cell_type": "code",
      "metadata": {
        "id": "hUGAo7rLUJzw",
        "colab_type": "code",
        "colab": {
          "base_uri": "https://localhost:8080/",
          "height": 34
        },
        "outputId": "4b226d57-dd79-4b36-ced3-6e7bfe12cfc1"
      },
      "source": [
        "from keras.datasets import mnist\n",
        "from keras.utils    import to_categorical\n",
        "from keras.models   import Sequential\n",
        "from keras.layers   import Convolution2D\n",
        "from keras.layers   import MaxPooling2D\n",
        "from keras.layers   import Dense\n",
        "from keras.layers   import Flatten\n",
        "from keras.layers   import Dense, Dropout, Activation, Flatten, Add, BatchNormalization\n",
        "from keras.preprocessing.image import ImageDataGenerator"
      ],
      "execution_count": 1,
      "outputs": [
        {
          "output_type": "stream",
          "text": [
            "Using TensorFlow backend.\n"
          ],
          "name": "stderr"
        }
      ]
    },
    {
      "cell_type": "code",
      "metadata": {
        "id": "eWSQfL5GW4Yt",
        "colab_type": "code",
        "colab": {
          "base_uri": "https://localhost:8080/",
          "height": 50
        },
        "outputId": "e93b035e-ea9e-4e8d-ed6d-b090257e9b67"
      },
      "source": [
        "# loading MNIST dataset\n",
        "(trainX, trainY), (testX, testY) = mnist.load_data()\n",
        "# reshaping the dataset and converting the RGB image into single channel\n",
        "width, height, channels = trainX.shape[1], trainX.shape[2], 1\n",
        "trainX = trainX.reshape((trainX.shape[0], width, height, channels))\n",
        "testX = testX.reshape((testX.shape[0], width, height, channels))\n",
        "# one hot encode target value, i.e., creating a new binary values for each unique integer\n",
        "trainY = to_categorical(trainY)\n",
        "testY = to_categorical(testY)"
      ],
      "execution_count": 2,
      "outputs": [
        {
          "output_type": "stream",
          "text": [
            "Downloading data from https://s3.amazonaws.com/img-datasets/mnist.npz\n",
            "11493376/11490434 [==============================] - 0s 0us/step\n"
          ],
          "name": "stdout"
        }
      ]
    },
    {
      "cell_type": "code",
      "metadata": {
        "id": "v2vR9YpOYj-i",
        "colab_type": "code",
        "colab": {
          "base_uri": "https://localhost:8080/",
          "height": 50
        },
        "outputId": "d1b0d101-1f0a-425f-818c-4b1c00942684"
      },
      "source": [
        "# create generator, setting input mean to 0 over the dataset, feature-wise and also normalizing the image featurewise\n",
        "datagen = ImageDataGenerator(featurewise_center=True, featurewise_std_normalization=True)\n",
        "datagen.fit(trainX)\n",
        "datagen.fit(testX)\n",
        "# creating train and test set by scaling the images\n",
        "train_iterator = datagen.flow(trainX, trainY, batch_size=128)\n",
        "test_iterator = datagen.flow(testX, testY, batch_size=128)\n",
        "print('Batches train=%d, test=%d' % (len(train_iterator), len(test_iterator)))\n",
        "# confirm the scaling works\n",
        "batchX, batchy = train_iterator.next()\n",
        "print('Batch shape=%s, min=%.3f, max=%.3f' % (batchX.shape, batchX.min(), batchX.max()))"
      ],
      "execution_count": 3,
      "outputs": [
        {
          "output_type": "stream",
          "text": [
            "Batches train=469, test=79\n",
            "Batch shape=(128, 28, 28, 1), min=-0.427, max=2.794\n"
          ],
          "name": "stdout"
        }
      ]
    },
    {
      "cell_type": "markdown",
      "metadata": {
        "id": "Vz82L8xFr9dR",
        "colab_type": "text"
      },
      "source": [
        "#**CNN**\n",
        "\n",
        "**The following network is the one in assignment 4, except that i have added dropout of 0.1 after each convolution layer.**"
      ]
    },
    {
      "cell_type": "code",
      "metadata": {
        "id": "ImEOoNAErSsp",
        "colab_type": "code",
        "colab": {
          "base_uri": "https://localhost:8080/",
          "height": 1000
        },
        "outputId": "94c8baec-b16a-435d-8d6e-692182313c7d"
      },
      "source": [
        "from keras.layers import Activation, MaxPooling2D\n",
        "from keras.callbacks import ModelCheckpoint\n",
        "model = Sequential() \n",
        "model.add(Convolution2D(10, 3, 3,input_shape=(width, height, channels)))  # I/P= 28X28X1   | (3X3X1)X10   | O/P 26X26X10 | RF=3X3\n",
        "model.add(BatchNormalization())\n",
        "model.add(Activation(\"relu\"))\n",
        "model.add(Dropout(0.1))\n",
        "model.add(Convolution2D(20, 3, 3))                                        # I/P= 26X26X10  | (3X3X10)X20  | O/P 24X24X20 | RF=5X5\n",
        "model.add(BatchNormalization())\n",
        "model.add(Activation(\"relu\"))         \n",
        "model.add(MaxPooling2D(pool_size=(2, 2)))                                 # I/P= 24X24X20  | MP (2X2)     | O/P 12X12X20 | RF=10X10\n",
        "model.add(Dropout(0.1))\n",
        "model.add(Convolution2D(20,3,3))                                          # I/P= 12X12X20  | (3X3X20)X20  | O/P 10X10X20 | RF=12X12\n",
        "model.add(BatchNormalization())\n",
        "model.add(Activation(\"relu\"))\n",
        "model.add(MaxPooling2D(pool_size=(2, 2)))                                 # I/P= 10X10X20  | MP (2X2)     | O/P 5X5X20   | RF=24X24\n",
        "model.add(Dropout(0.1))\n",
        "model.add(Convolution2D(20, 3, 3))                                        # I/P= 5X5X20    | (3X3X20)X20  | O/P 3X3X20   | RF=26X26\n",
        "model.add(BatchNormalization())\n",
        "model.add(Activation(\"relu\"))\n",
        "model.add(Dropout(0.1))\n",
        "model.add(Convolution2D(10, 1, 1))                                        # I/P= 3X3X20    | (1X1X20)X10  | O/P 3X3X10   | RF=26X26\n",
        "model.add(BatchNormalization())\n",
        "model.add(Activation(\"relu\"))\n",
        "model.add(Dropout(0.1))\n",
        "model.add(Convolution2D(10, 3, 3))                                        # I/P= 3X3X10    |  (3X3X10)X10 | O/P 1X1X10   | RF=28X28\n",
        "model.add(Flatten())\n",
        "model.add(Activation('softmax'))\n",
        "model.summary()"
      ],
      "execution_count": 4,
      "outputs": [
        {
          "output_type": "stream",
          "text": [
            "WARNING:tensorflow:From /usr/local/lib/python3.6/dist-packages/keras/backend/tensorflow_backend.py:66: The name tf.get_default_graph is deprecated. Please use tf.compat.v1.get_default_graph instead.\n",
            "\n",
            "WARNING:tensorflow:From /usr/local/lib/python3.6/dist-packages/keras/backend/tensorflow_backend.py:541: The name tf.placeholder is deprecated. Please use tf.compat.v1.placeholder instead.\n",
            "\n",
            "WARNING:tensorflow:From /usr/local/lib/python3.6/dist-packages/keras/backend/tensorflow_backend.py:4432: The name tf.random_uniform is deprecated. Please use tf.random.uniform instead.\n",
            "\n",
            "WARNING:tensorflow:From /usr/local/lib/python3.6/dist-packages/keras/backend/tensorflow_backend.py:190: The name tf.get_default_session is deprecated. Please use tf.compat.v1.get_default_session instead.\n",
            "\n",
            "WARNING:tensorflow:From /usr/local/lib/python3.6/dist-packages/keras/backend/tensorflow_backend.py:197: The name tf.ConfigProto is deprecated. Please use tf.compat.v1.ConfigProto instead.\n",
            "\n"
          ],
          "name": "stdout"
        },
        {
          "output_type": "stream",
          "text": [
            "/usr/local/lib/python3.6/dist-packages/ipykernel_launcher.py:4: UserWarning: Update your `Conv2D` call to the Keras 2 API: `Conv2D(10, (3, 3), input_shape=(28, 28, 1...)`\n",
            "  after removing the cwd from sys.path.\n"
          ],
          "name": "stderr"
        },
        {
          "output_type": "stream",
          "text": [
            "WARNING:tensorflow:From /usr/local/lib/python3.6/dist-packages/keras/backend/tensorflow_backend.py:2041: The name tf.nn.fused_batch_norm is deprecated. Please use tf.compat.v1.nn.fused_batch_norm instead.\n",
            "\n",
            "WARNING:tensorflow:From /usr/local/lib/python3.6/dist-packages/keras/backend/tensorflow_backend.py:3733: calling dropout (from tensorflow.python.ops.nn_ops) with keep_prob is deprecated and will be removed in a future version.\n",
            "Instructions for updating:\n",
            "Please use `rate` instead of `keep_prob`. Rate should be set to `rate = 1 - keep_prob`.\n",
            "WARNING:tensorflow:From /usr/local/lib/python3.6/dist-packages/keras/backend/tensorflow_backend.py:4267: The name tf.nn.max_pool is deprecated. Please use tf.nn.max_pool2d instead.\n",
            "\n"
          ],
          "name": "stdout"
        },
        {
          "output_type": "stream",
          "text": [
            "/usr/local/lib/python3.6/dist-packages/ipykernel_launcher.py:8: UserWarning: Update your `Conv2D` call to the Keras 2 API: `Conv2D(20, (3, 3))`\n",
            "  \n",
            "/usr/local/lib/python3.6/dist-packages/ipykernel_launcher.py:13: UserWarning: Update your `Conv2D` call to the Keras 2 API: `Conv2D(20, (3, 3))`\n",
            "  del sys.path[0]\n",
            "/usr/local/lib/python3.6/dist-packages/ipykernel_launcher.py:18: UserWarning: Update your `Conv2D` call to the Keras 2 API: `Conv2D(20, (3, 3))`\n",
            "/usr/local/lib/python3.6/dist-packages/ipykernel_launcher.py:22: UserWarning: Update your `Conv2D` call to the Keras 2 API: `Conv2D(10, (1, 1))`\n"
          ],
          "name": "stderr"
        },
        {
          "output_type": "stream",
          "text": [
            "Model: \"sequential_1\"\n",
            "_________________________________________________________________\n",
            "Layer (type)                 Output Shape              Param #   \n",
            "=================================================================\n",
            "conv2d_1 (Conv2D)            (None, 26, 26, 10)        100       \n",
            "_________________________________________________________________\n",
            "batch_normalization_1 (Batch (None, 26, 26, 10)        40        \n",
            "_________________________________________________________________\n",
            "activation_1 (Activation)    (None, 26, 26, 10)        0         \n",
            "_________________________________________________________________\n",
            "dropout_1 (Dropout)          (None, 26, 26, 10)        0         \n",
            "_________________________________________________________________\n",
            "conv2d_2 (Conv2D)            (None, 24, 24, 20)        1820      \n",
            "_________________________________________________________________\n",
            "batch_normalization_2 (Batch (None, 24, 24, 20)        80        \n",
            "_________________________________________________________________\n",
            "activation_2 (Activation)    (None, 24, 24, 20)        0         \n",
            "_________________________________________________________________\n",
            "max_pooling2d_1 (MaxPooling2 (None, 12, 12, 20)        0         \n",
            "_________________________________________________________________\n",
            "dropout_2 (Dropout)          (None, 12, 12, 20)        0         \n",
            "_________________________________________________________________\n",
            "conv2d_3 (Conv2D)            (None, 10, 10, 20)        3620      \n",
            "_________________________________________________________________\n",
            "batch_normalization_3 (Batch (None, 10, 10, 20)        80        \n",
            "_________________________________________________________________\n",
            "activation_3 (Activation)    (None, 10, 10, 20)        0         \n",
            "_________________________________________________________________\n",
            "max_pooling2d_2 (MaxPooling2 (None, 5, 5, 20)          0         \n",
            "_________________________________________________________________\n",
            "dropout_3 (Dropout)          (None, 5, 5, 20)          0         \n",
            "_________________________________________________________________\n",
            "conv2d_4 (Conv2D)            (None, 3, 3, 20)          3620      \n",
            "_________________________________________________________________\n",
            "batch_normalization_4 (Batch (None, 3, 3, 20)          80        \n",
            "_________________________________________________________________\n",
            "activation_4 (Activation)    (None, 3, 3, 20)          0         \n",
            "_________________________________________________________________\n",
            "dropout_4 (Dropout)          (None, 3, 3, 20)          0         \n",
            "_________________________________________________________________\n",
            "conv2d_5 (Conv2D)            (None, 3, 3, 10)          210       \n",
            "_________________________________________________________________\n",
            "batch_normalization_5 (Batch (None, 3, 3, 10)          40        \n",
            "_________________________________________________________________\n",
            "activation_5 (Activation)    (None, 3, 3, 10)          0         \n",
            "_________________________________________________________________\n",
            "dropout_5 (Dropout)          (None, 3, 3, 10)          0         \n",
            "_________________________________________________________________\n",
            "conv2d_6 (Conv2D)            (None, 1, 1, 10)          910       \n",
            "_________________________________________________________________\n",
            "flatten_1 (Flatten)          (None, 10)                0         \n",
            "_________________________________________________________________\n",
            "activation_6 (Activation)    (None, 10)                0         \n",
            "=================================================================\n",
            "Total params: 10,600\n",
            "Trainable params: 10,440\n",
            "Non-trainable params: 160\n",
            "_________________________________________________________________\n"
          ],
          "name": "stdout"
        },
        {
          "output_type": "stream",
          "text": [
            "/usr/local/lib/python3.6/dist-packages/ipykernel_launcher.py:26: UserWarning: Update your `Conv2D` call to the Keras 2 API: `Conv2D(10, (3, 3))`\n"
          ],
          "name": "stderr"
        }
      ]
    },
    {
      "cell_type": "markdown",
      "metadata": {
        "id": "BuNisPlgs4a9",
        "colab_type": "text"
      },
      "source": [
        "# **mounting the googledrive on runtime using authorization code**"
      ]
    },
    {
      "cell_type": "code",
      "metadata": {
        "id": "4OAp9Qnas4nZ",
        "colab_type": "code",
        "colab": {
          "base_uri": "https://localhost:8080/",
          "height": 121
        },
        "outputId": "f972213d-d4a3-4520-831f-4feac2490ccf"
      },
      "source": [
        "from google.colab import drive\n",
        "drive.mount('/content/gdrive')\n"
      ],
      "execution_count": 5,
      "outputs": [
        {
          "output_type": "stream",
          "text": [
            "Go to this URL in a browser: https://accounts.google.com/o/oauth2/auth?client_id=947318989803-6bn6qk8qdgf4n4g3pfee6491hc0brc4i.apps.googleusercontent.com&redirect_uri=urn%3Aietf%3Awg%3Aoauth%3A2.0%3Aoob&scope=email%20https%3A%2F%2Fwww.googleapis.com%2Fauth%2Fdocs.test%20https%3A%2F%2Fwww.googleapis.com%2Fauth%2Fdrive%20https%3A%2F%2Fwww.googleapis.com%2Fauth%2Fdrive.photos.readonly%20https%3A%2F%2Fwww.googleapis.com%2Fauth%2Fpeopleapi.readonly&response_type=code\n",
            "\n",
            "Enter your authorization code:\n",
            "··········\n",
            "Mounted at /content/gdrive\n"
          ],
          "name": "stdout"
        }
      ]
    },
    {
      "cell_type": "markdown",
      "metadata": {
        "id": "tKiZxqD8wNoh",
        "colab_type": "text"
      },
      "source": [
        "# **Creating model checkpints so that only the best model is saved.**"
      ]
    },
    {
      "cell_type": "code",
      "metadata": {
        "id": "aEPMPqgluuRR",
        "colab_type": "code",
        "colab": {}
      },
      "source": [
        "filepath=\"/content/gdrive/My Drive/weights_best.hdf5\"\n",
        "checkpoint = ModelCheckpoint(filepath, monitor='val_acc', verbose=1, save_best_only=True, mode='max')"
      ],
      "execution_count": 0,
      "outputs": []
    },
    {
      "cell_type": "markdown",
      "metadata": {
        "id": "8922mQS9z0ac",
        "colab_type": "text"
      },
      "source": [
        "# **Creating functions for L2 regularization and creating a learning rate scheduler**"
      ]
    },
    {
      "cell_type": "code",
      "metadata": {
        "id": "T7Hfb1Elw2ZO",
        "colab_type": "code",
        "colab": {
          "base_uri": "https://localhost:8080/",
          "height": 1000
        },
        "outputId": "4a4e796f-11a1-4ac4-940e-7e6235a587fd"
      },
      "source": [
        "from keras.optimizers import Adam\n",
        "from keras.callbacks import LearningRateScheduler\n",
        "import keras.backend as K\n",
        "import numpy as np\n",
        "lmbda=0.01\n",
        "# L2 Regularization\n",
        "def reg_term(lmbda):\n",
        "  w2=0\n",
        "  for i in range(len(model.layers)):\n",
        "    if len(model.layers[i].get_weights())>0:\n",
        "      t=np.sum(model.layers[i].get_weights()[0]*model.layers[i].get_weights()[0])\n",
        "      w2=w2*t\n",
        "  w2=w2*(lmbda/(2*trainX.shape[0]))\n",
        "  return w2\n",
        "def l2_loss(y_true, y_pred):\n",
        "  return K.categorical_crossentropy(y_true, y_pred)+reg_term(lmbda)\n",
        "# Learning rate scheduler\n",
        "def scheduler(epoch, lr):\n",
        "  return round(0.003 * 1/(1 + 0.319 * epoch), 10)\n",
        "#fitting model and compiling the model\n",
        "model.compile(optimizer=Adam(lr=0.003), loss=l2_loss, metrics=['accuracy'])\n",
        "model.fit_generator(train_iterator, steps_per_epoch=len(train_iterator), epochs=40, verbose=1, validation_data=(test_iterator), callbacks=[LearningRateScheduler(scheduler, verbose=1),checkpoint])"
      ],
      "execution_count": 13,
      "outputs": [
        {
          "output_type": "stream",
          "text": [
            "WARNING:tensorflow:From /usr/local/lib/python3.6/dist-packages/tensorflow/python/ops/math_grad.py:1250: add_dispatch_support.<locals>.wrapper (from tensorflow.python.ops.array_ops) is deprecated and will be removed in a future version.\n",
            "Instructions for updating:\n",
            "Use tf.where in 2.0, which has the same broadcast rule as np.where\n",
            "Epoch 1/40\n",
            "\n",
            "Epoch 00001: LearningRateScheduler setting learning rate to 0.003.\n",
            "469/469 [==============================] - 14s 30ms/step - loss: 0.3008 - acc: 0.9122 - val_loss: 0.0585 - val_acc: 0.9814\n",
            "\n",
            "Epoch 00001: val_acc improved from -inf to 0.98140, saving model to /content/gdrive/My Drive/weights_best.hdf5\n",
            "Epoch 2/40\n",
            "\n",
            "Epoch 00002: LearningRateScheduler setting learning rate to 0.0022744503.\n",
            "469/469 [==============================] - 10s 22ms/step - loss: 0.0871 - acc: 0.9730 - val_loss: 0.0503 - val_acc: 0.9840\n",
            "\n",
            "Epoch 00002: val_acc improved from 0.98140 to 0.98400, saving model to /content/gdrive/My Drive/weights_best.hdf5\n",
            "Epoch 3/40\n",
            "\n",
            "Epoch 00003: LearningRateScheduler setting learning rate to 0.0018315018.\n",
            "469/469 [==============================] - 10s 22ms/step - loss: 0.0683 - acc: 0.9777 - val_loss: 0.0420 - val_acc: 0.9871\n",
            "\n",
            "Epoch 00003: val_acc improved from 0.98400 to 0.98710, saving model to /content/gdrive/My Drive/weights_best.hdf5\n",
            "Epoch 4/40\n",
            "\n",
            "Epoch 00004: LearningRateScheduler setting learning rate to 0.0015329586.\n",
            "469/469 [==============================] - 10s 22ms/step - loss: 0.0596 - acc: 0.9812 - val_loss: 0.0290 - val_acc: 0.9912\n",
            "\n",
            "Epoch 00004: val_acc improved from 0.98710 to 0.99120, saving model to /content/gdrive/My Drive/weights_best.hdf5\n",
            "Epoch 5/40\n",
            "\n",
            "Epoch 00005: LearningRateScheduler setting learning rate to 0.0013181019.\n",
            "469/469 [==============================] - 10s 22ms/step - loss: 0.0536 - acc: 0.9831 - val_loss: 0.0334 - val_acc: 0.9895\n",
            "\n",
            "Epoch 00005: val_acc did not improve from 0.99120\n",
            "Epoch 6/40\n",
            "\n",
            "Epoch 00006: LearningRateScheduler setting learning rate to 0.0011560694.\n",
            "469/469 [==============================] - 10s 22ms/step - loss: 0.0506 - acc: 0.9838 - val_loss: 0.0293 - val_acc: 0.9901\n",
            "\n",
            "Epoch 00006: val_acc did not improve from 0.99120\n",
            "Epoch 7/40\n",
            "\n",
            "Epoch 00007: LearningRateScheduler setting learning rate to 0.0010295127.\n",
            "469/469 [==============================] - 10s 22ms/step - loss: 0.0453 - acc: 0.9859 - val_loss: 0.0309 - val_acc: 0.9903\n",
            "\n",
            "Epoch 00007: val_acc did not improve from 0.99120\n",
            "Epoch 8/40\n",
            "\n",
            "Epoch 00008: LearningRateScheduler setting learning rate to 0.0009279307.\n",
            "469/469 [==============================] - 10s 22ms/step - loss: 0.0442 - acc: 0.9858 - val_loss: 0.0277 - val_acc: 0.9910\n",
            "\n",
            "Epoch 00008: val_acc did not improve from 0.99120\n",
            "Epoch 9/40\n",
            "\n",
            "Epoch 00009: LearningRateScheduler setting learning rate to 0.0008445946.\n",
            "469/469 [==============================] - 10s 22ms/step - loss: 0.0417 - acc: 0.9862 - val_loss: 0.0240 - val_acc: 0.9924\n",
            "\n",
            "Epoch 00009: val_acc improved from 0.99120 to 0.99240, saving model to /content/gdrive/My Drive/weights_best.hdf5\n",
            "Epoch 10/40\n",
            "\n",
            "Epoch 00010: LearningRateScheduler setting learning rate to 0.0007749935.\n",
            "469/469 [==============================] - 10s 22ms/step - loss: 0.0400 - acc: 0.9874 - val_loss: 0.0242 - val_acc: 0.9924\n",
            "\n",
            "Epoch 00010: val_acc did not improve from 0.99240\n",
            "Epoch 11/40\n",
            "\n",
            "Epoch 00011: LearningRateScheduler setting learning rate to 0.0007159905.\n",
            "469/469 [==============================] - 10s 22ms/step - loss: 0.0382 - acc: 0.9871 - val_loss: 0.0221 - val_acc: 0.9932\n",
            "\n",
            "Epoch 00011: val_acc improved from 0.99240 to 0.99320, saving model to /content/gdrive/My Drive/weights_best.hdf5\n",
            "Epoch 12/40\n",
            "\n",
            "Epoch 00012: LearningRateScheduler setting learning rate to 0.000665336.\n",
            "469/469 [==============================] - 11s 23ms/step - loss: 0.0361 - acc: 0.9881 - val_loss: 0.0243 - val_acc: 0.9921\n",
            "\n",
            "Epoch 00012: val_acc did not improve from 0.99320\n",
            "Epoch 13/40\n",
            "\n",
            "Epoch 00013: LearningRateScheduler setting learning rate to 0.0006213753.\n",
            "469/469 [==============================] - 11s 23ms/step - loss: 0.0360 - acc: 0.9882 - val_loss: 0.0207 - val_acc: 0.9926\n",
            "\n",
            "Epoch 00013: val_acc did not improve from 0.99320\n",
            "Epoch 14/40\n",
            "\n",
            "Epoch 00014: LearningRateScheduler setting learning rate to 0.0005828638.\n",
            "469/469 [==============================] - 11s 23ms/step - loss: 0.0339 - acc: 0.9891 - val_loss: 0.0220 - val_acc: 0.9931\n",
            "\n",
            "Epoch 00014: val_acc did not improve from 0.99320\n",
            "Epoch 15/40\n",
            "\n",
            "Epoch 00015: LearningRateScheduler setting learning rate to 0.0005488474.\n",
            "469/469 [==============================] - 11s 23ms/step - loss: 0.0333 - acc: 0.9888 - val_loss: 0.0217 - val_acc: 0.9932\n",
            "\n",
            "Epoch 00015: val_acc did not improve from 0.99320\n",
            "Epoch 16/40\n",
            "\n",
            "Epoch 00016: LearningRateScheduler setting learning rate to 0.0005185825.\n",
            "469/469 [==============================] - 11s 23ms/step - loss: 0.0326 - acc: 0.9898 - val_loss: 0.0210 - val_acc: 0.9928\n",
            "\n",
            "Epoch 00016: val_acc did not improve from 0.99320\n",
            "Epoch 17/40\n",
            "\n",
            "Epoch 00017: LearningRateScheduler setting learning rate to 0.000491481.\n",
            "469/469 [==============================] - 11s 23ms/step - loss: 0.0338 - acc: 0.9890 - val_loss: 0.0225 - val_acc: 0.9934\n",
            "\n",
            "Epoch 00017: val_acc improved from 0.99320 to 0.99340, saving model to /content/gdrive/My Drive/weights_best.hdf5\n",
            "Epoch 18/40\n",
            "\n",
            "Epoch 00018: LearningRateScheduler setting learning rate to 0.0004670715.\n",
            "469/469 [==============================] - 11s 23ms/step - loss: 0.0319 - acc: 0.9896 - val_loss: 0.0233 - val_acc: 0.9928\n",
            "\n",
            "Epoch 00018: val_acc did not improve from 0.99340\n",
            "Epoch 19/40\n",
            "\n",
            "Epoch 00019: LearningRateScheduler setting learning rate to 0.0004449718.\n",
            "469/469 [==============================] - 11s 23ms/step - loss: 0.0325 - acc: 0.9897 - val_loss: 0.0215 - val_acc: 0.9927\n",
            "\n",
            "Epoch 00019: val_acc did not improve from 0.99340\n",
            "Epoch 20/40\n",
            "\n",
            "Epoch 00020: LearningRateScheduler setting learning rate to 0.000424869.\n",
            "469/469 [==============================] - 11s 23ms/step - loss: 0.0311 - acc: 0.9897 - val_loss: 0.0225 - val_acc: 0.9930\n",
            "\n",
            "Epoch 00020: val_acc did not improve from 0.99340\n",
            "Epoch 21/40\n",
            "\n",
            "Epoch 00021: LearningRateScheduler setting learning rate to 0.0004065041.\n",
            "469/469 [==============================] - 11s 23ms/step - loss: 0.0297 - acc: 0.9901 - val_loss: 0.0214 - val_acc: 0.9936\n",
            "\n",
            "Epoch 00021: val_acc improved from 0.99340 to 0.99360, saving model to /content/gdrive/My Drive/weights_best.hdf5\n",
            "Epoch 22/40\n",
            "\n",
            "Epoch 00022: LearningRateScheduler setting learning rate to 0.000389661.\n",
            "469/469 [==============================] - 11s 23ms/step - loss: 0.0311 - acc: 0.9897 - val_loss: 0.0208 - val_acc: 0.9937\n",
            "\n",
            "Epoch 00022: val_acc improved from 0.99360 to 0.99370, saving model to /content/gdrive/My Drive/weights_best.hdf5\n",
            "Epoch 23/40\n",
            "\n",
            "Epoch 00023: LearningRateScheduler setting learning rate to 0.0003741581.\n",
            "469/469 [==============================] - 11s 23ms/step - loss: 0.0291 - acc: 0.9907 - val_loss: 0.0216 - val_acc: 0.9935\n",
            "\n",
            "Epoch 00023: val_acc did not improve from 0.99370\n",
            "Epoch 24/40\n",
            "\n",
            "Epoch 00024: LearningRateScheduler setting learning rate to 0.0003598417.\n",
            "469/469 [==============================] - 11s 23ms/step - loss: 0.0289 - acc: 0.9907 - val_loss: 0.0227 - val_acc: 0.9938\n",
            "\n",
            "Epoch 00024: val_acc improved from 0.99370 to 0.99380, saving model to /content/gdrive/My Drive/weights_best.hdf5\n",
            "Epoch 25/40\n",
            "\n",
            "Epoch 00025: LearningRateScheduler setting learning rate to 0.0003465804.\n",
            "469/469 [==============================] - 11s 23ms/step - loss: 0.0284 - acc: 0.9909 - val_loss: 0.0215 - val_acc: 0.9935\n",
            "\n",
            "Epoch 00025: val_acc did not improve from 0.99380\n",
            "Epoch 26/40\n",
            "\n",
            "Epoch 00026: LearningRateScheduler setting learning rate to 0.0003342618.\n",
            "469/469 [==============================] - 11s 23ms/step - loss: 0.0287 - acc: 0.9908 - val_loss: 0.0211 - val_acc: 0.9931\n",
            "\n",
            "Epoch 00026: val_acc did not improve from 0.99380\n",
            "Epoch 27/40\n",
            "\n",
            "Epoch 00027: LearningRateScheduler setting learning rate to 0.0003227889.\n",
            "469/469 [==============================] - 11s 23ms/step - loss: 0.0280 - acc: 0.9909 - val_loss: 0.0206 - val_acc: 0.9930\n",
            "\n",
            "Epoch 00027: val_acc did not improve from 0.99380\n",
            "Epoch 28/40\n",
            "\n",
            "Epoch 00028: LearningRateScheduler setting learning rate to 0.0003120774.\n",
            "469/469 [==============================] - 11s 23ms/step - loss: 0.0271 - acc: 0.9913 - val_loss: 0.0211 - val_acc: 0.9937\n",
            "\n",
            "Epoch 00028: val_acc did not improve from 0.99380\n",
            "Epoch 29/40\n",
            "\n",
            "Epoch 00029: LearningRateScheduler setting learning rate to 0.000302054.\n",
            "469/469 [==============================] - 11s 23ms/step - loss: 0.0291 - acc: 0.9903 - val_loss: 0.0217 - val_acc: 0.9932\n",
            "\n",
            "Epoch 00029: val_acc did not improve from 0.99380\n",
            "Epoch 30/40\n",
            "\n",
            "Epoch 00030: LearningRateScheduler setting learning rate to 0.0002926544.\n",
            "469/469 [==============================] - 11s 23ms/step - loss: 0.0266 - acc: 0.9912 - val_loss: 0.0202 - val_acc: 0.9931\n",
            "\n",
            "Epoch 00030: val_acc did not improve from 0.99380\n",
            "Epoch 31/40\n",
            "\n",
            "Epoch 00031: LearningRateScheduler setting learning rate to 0.0002838221.\n",
            "469/469 [==============================] - 11s 23ms/step - loss: 0.0267 - acc: 0.9911 - val_loss: 0.0201 - val_acc: 0.9933\n",
            "\n",
            "Epoch 00031: val_acc did not improve from 0.99380\n",
            "Epoch 32/40\n",
            "\n",
            "Epoch 00032: LearningRateScheduler setting learning rate to 0.0002755074.\n",
            "469/469 [==============================] - 11s 23ms/step - loss: 0.0277 - acc: 0.9914 - val_loss: 0.0203 - val_acc: 0.9935\n",
            "\n",
            "Epoch 00032: val_acc did not improve from 0.99380\n",
            "Epoch 33/40\n",
            "\n",
            "Epoch 00033: LearningRateScheduler setting learning rate to 0.000267666.\n",
            "469/469 [==============================] - 11s 23ms/step - loss: 0.0266 - acc: 0.9915 - val_loss: 0.0200 - val_acc: 0.9946\n",
            "\n",
            "Epoch 00033: val_acc improved from 0.99380 to 0.99460, saving model to /content/gdrive/My Drive/weights_best.hdf5\n",
            "Epoch 34/40\n",
            "\n",
            "Epoch 00034: LearningRateScheduler setting learning rate to 0.0002602585.\n",
            "469/469 [==============================] - 11s 23ms/step - loss: 0.0267 - acc: 0.9912 - val_loss: 0.0213 - val_acc: 0.9936\n",
            "\n",
            "Epoch 00034: val_acc did not improve from 0.99460\n",
            "Epoch 35/40\n",
            "\n",
            "Epoch 00035: LearningRateScheduler setting learning rate to 0.00025325.\n",
            "469/469 [==============================] - 11s 23ms/step - loss: 0.0262 - acc: 0.9917 - val_loss: 0.0202 - val_acc: 0.9936\n",
            "\n",
            "Epoch 00035: val_acc did not improve from 0.99460\n",
            "Epoch 36/40\n",
            "\n",
            "Epoch 00036: LearningRateScheduler setting learning rate to 0.0002466091.\n",
            "469/469 [==============================] - 11s 23ms/step - loss: 0.0259 - acc: 0.9915 - val_loss: 0.0195 - val_acc: 0.9939\n",
            "\n",
            "Epoch 00036: val_acc did not improve from 0.99460\n",
            "Epoch 37/40\n",
            "\n",
            "Epoch 00037: LearningRateScheduler setting learning rate to 0.0002403076.\n",
            "469/469 [==============================] - 11s 24ms/step - loss: 0.0256 - acc: 0.9916 - val_loss: 0.0201 - val_acc: 0.9937\n",
            "\n",
            "Epoch 00037: val_acc did not improve from 0.99460\n",
            "Epoch 38/40\n",
            "\n",
            "Epoch 00038: LearningRateScheduler setting learning rate to 0.0002343201.\n",
            "469/469 [==============================] - 11s 23ms/step - loss: 0.0263 - acc: 0.9915 - val_loss: 0.0201 - val_acc: 0.9937\n",
            "\n",
            "Epoch 00038: val_acc did not improve from 0.99460\n",
            "Epoch 39/40\n",
            "\n",
            "Epoch 00039: LearningRateScheduler setting learning rate to 0.0002286237.\n",
            "469/469 [==============================] - 11s 23ms/step - loss: 0.0262 - acc: 0.9915 - val_loss: 0.0211 - val_acc: 0.9935\n",
            "\n",
            "Epoch 00039: val_acc did not improve from 0.99460\n",
            "Epoch 40/40\n",
            "\n",
            "Epoch 00040: LearningRateScheduler setting learning rate to 0.0002231977.\n",
            "469/469 [==============================] - 11s 23ms/step - loss: 0.0253 - acc: 0.9920 - val_loss: 0.0200 - val_acc: 0.9937\n",
            "\n",
            "Epoch 00040: val_acc did not improve from 0.99460\n"
          ],
          "name": "stdout"
        },
        {
          "output_type": "execute_result",
          "data": {
            "text/plain": [
              "<keras.callbacks.History at 0x7f0a4c9406d8>"
            ]
          },
          "metadata": {
            "tags": []
          },
          "execution_count": 13
        }
      ]
    },
    {
      "cell_type": "markdown",
      "metadata": {
        "id": "uPjADHyc6fBU",
        "colab_type": "text"
      },
      "source": [
        "# **Loading the model with highest validation accuracy**"
      ]
    },
    {
      "cell_type": "code",
      "metadata": {
        "id": "gfhf-0HdAuBH",
        "colab_type": "code",
        "colab": {
          "base_uri": "https://localhost:8080/",
          "height": 185
        },
        "outputId": "e43e45ae-3474-42ae-b247-db1ae33fff2d"
      },
      "source": [
        "from keras.layers import Activation, MaxPooling2D\n",
        "from keras.callbacks import ModelCheckpoint\n",
        "model = Sequential() \n",
        "model.add(Convolution2D(10, 3, 3,input_shape=(width, height, channels)))  # I/P= 28X28X1   | (3X3X1)X10   | O/P 26X26X10 | RF=3X3\n",
        "model.add(BatchNormalization())\n",
        "model.add(Activation(\"relu\"))\n",
        "model.add(Dropout(0.1))\n",
        "model.add(Convolution2D(20, 3, 3))                                        # I/P= 26X26X10  | (3X3X10)X20  | O/P 24X24X20 | RF=5X5\n",
        "model.add(BatchNormalization())\n",
        "model.add(Activation(\"relu\"))         \n",
        "model.add(MaxPooling2D(pool_size=(2, 2)))                                 # I/P= 24X264X20 | MP (2X2)     | O/P 12X12X20 | RF=10X10\n",
        "model.add(Dropout(0.1))\n",
        "model.add(Convolution2D(20,3,3))                                          # I/P= 12X12X20  | (3X3X20)X20  | O/P 10X10X20 | RF=12X12\n",
        "model.add(BatchNormalization())\n",
        "model.add(Activation(\"relu\"))\n",
        "model.add(MaxPooling2D(pool_size=(2, 2)))                                 # I/P= 10X10X20  | MP (2X2)     | O/P 5X5X20   | RF=24X24\n",
        "model.add(Dropout(0.1))\n",
        "model.add(Convolution2D(20, 3, 3))                                        # I/P= 5X5X20   | (3X3X20)X20  | O/P 3X3X20   | RF=26X26\n",
        "model.add(BatchNormalization())\n",
        "model.add(Activation(\"relu\"))\n",
        "model.add(Dropout(0.1))\n",
        "model.add(Convolution2D(10, 1, 1))                                        # I/P= 3X3X20    | (1X1X20)X10  | O/P 3X3X10   | RF=26X26\n",
        "model.add(BatchNormalization())\n",
        "model.add(Activation(\"relu\"))\n",
        "model.add(Dropout(0.1))\n",
        "model.add(Convolution2D(10, 3, 3))                                        # I/P= 3X3X10    |  (3X3X10)X10 | O/P 1X1X10   | RF=28X28\n",
        "model.add(Flatten())\n",
        "model.add(Activation('softmax'))\n",
        "model.load_weights('/content/gdrive/My Drive/weights_best.hdf5')\n",
        "model.compile(optimizer=Adam(lr=0.003), loss='categorical_crossentropy', metrics=['accuracy'])\n",
        "_, acc = model.evaluate_generator(test_iterator, steps=len(test_iterator), verbose=0)\n",
        "print('Test Accuracy: %.3f' % (acc * 100))"
      ],
      "execution_count": 14,
      "outputs": [
        {
          "output_type": "stream",
          "text": [
            "/usr/local/lib/python3.6/dist-packages/ipykernel_launcher.py:4: UserWarning: Update your `Conv2D` call to the Keras 2 API: `Conv2D(10, (3, 3), input_shape=(28, 28, 1...)`\n",
            "  after removing the cwd from sys.path.\n",
            "/usr/local/lib/python3.6/dist-packages/ipykernel_launcher.py:8: UserWarning: Update your `Conv2D` call to the Keras 2 API: `Conv2D(20, (3, 3))`\n",
            "  \n",
            "/usr/local/lib/python3.6/dist-packages/ipykernel_launcher.py:13: UserWarning: Update your `Conv2D` call to the Keras 2 API: `Conv2D(20, (3, 3))`\n",
            "  del sys.path[0]\n",
            "/usr/local/lib/python3.6/dist-packages/ipykernel_launcher.py:18: UserWarning: Update your `Conv2D` call to the Keras 2 API: `Conv2D(20, (3, 3))`\n",
            "/usr/local/lib/python3.6/dist-packages/ipykernel_launcher.py:22: UserWarning: Update your `Conv2D` call to the Keras 2 API: `Conv2D(10, (1, 1))`\n",
            "/usr/local/lib/python3.6/dist-packages/ipykernel_launcher.py:26: UserWarning: Update your `Conv2D` call to the Keras 2 API: `Conv2D(10, (3, 3))`\n"
          ],
          "name": "stderr"
        },
        {
          "output_type": "stream",
          "text": [
            "Test Accuracy: 99.460\n"
          ],
          "name": "stdout"
        }
      ]
    },
    {
      "cell_type": "markdown",
      "metadata": {
        "id": "3APAh5OfDAC-",
        "colab_type": "text"
      },
      "source": [
        "# **Creating an image gallery of misclassified images. Printing only the first 25 images**"
      ]
    },
    {
      "cell_type": "code",
      "metadata": {
        "id": "MKDNNqQiDAO9",
        "colab_type": "code",
        "colab": {
          "base_uri": "https://localhost:8080/",
          "height": 1000
        },
        "outputId": "b7d85131-8b1d-4444-ab2c-e6f395fb1807"
      },
      "source": [
        "import matplotlib.pyplot as plt\n",
        "(trainX, trainY), (testX, testY) = mnist.load_data()\n",
        "count=0\n",
        "for i in range(0,10000):\n",
        "  img=testX[i]\n",
        "  test_img = img.reshape(1, width, height, channels)\n",
        "  img_class = model.predict_classes(test_img)\n",
        "  prediction = img_class[0]\n",
        "  classname = img_class[0]\n",
        "  if classname != testY[i]:\n",
        "    print(\"Image:\", count+1,\"Predicted:\", classname, \"Actual:\", testY[i])\n",
        "    img = img.reshape((28,28))\n",
        "    plt.imshow(img)\n",
        "    plt.title(classname)\n",
        "    plt.show()\n",
        "    count=count+1\n",
        "    if count==25:\n",
        "      break"
      ],
      "execution_count": 16,
      "outputs": [
        {
          "output_type": "stream",
          "text": [
            "Image: 1 Predicted: 2 Actual: 1\n"
          ],
          "name": "stdout"
        },
        {
          "output_type": "display_data",
          "data": {
            "image/png": "[encoded data removed]",
            "text/plain": [
              "<Figure size 432x288 with 1 Axes>"
            ]
          },
          "metadata": {
            "tags": []
          }
        },
        {
          "output_type": "stream",
          "text": [
            "Image: 2 Predicted: 8 Actual: 1\n"
          ],
          "name": "stdout"
        },
        {
          "output_type": "display_data",
          "data": {
            "image/png": "[encoded data removed]",
            "text/plain": [
              "<Figure size 432x288 with 1 Axes>"
            ]
          },
          "metadata": {
            "tags": []
          }
        },
        {
          "output_type": "stream",
          "text": [
            "Image: 3 Predicted: 8 Actual: 1\n"
          ],
          "name": "stdout"
        },
        {
          "output_type": "display_data",
          "data": {
            "image/png": "[encoded data removed]",
            "text/plain": [
              "<Figure size 432x288 with 1 Axes>"
            ]
          },
          "metadata": {
            "tags": []
          }
        },
        {
          "output_type": "stream",
          "text": [
            "Image: 4 Predicted: 8 Actual: 1\n"
          ],
          "name": "stdout"
        },
        {
          "output_type": "display_data",
          "data": {
            "image/png": "[encoded data removed]",
            "text/plain": [
              "<Figure size 432x288 with 1 Axes>"
            ]
          },
          "metadata": {
            "tags": []
          }
        },
        {
          "output_type": "stream",
          "text": [
            "Image: 5 Predicted: 8 Actual: 1\n"
          ],
          "name": "stdout"
        },
        {
          "output_type": "display_data",
          "data": {
            "image/png": "[encoded data removed]",
            "text/plain": [
              "<Figure size 432x288 with 1 Axes>"
            ]
          },
          "metadata": {
            "tags": []
          }
        },
        {
          "output_type": "stream",
          "text": [
            "Image: 6 Predicted: 8 Actual: 1\n"
          ],
          "name": "stdout"
        },
        {
          "output_type": "display_data",
          "data": {
            "image/png": "[encoded data removed]",
            "text/plain": [
              "<Figure size 432x288 with 1 Axes>"
            ]
          },
          "metadata": {
            "tags": []
          }
        },
        {
          "output_type": "stream",
          "text": [
            "Image: 7 Predicted: 8 Actual: 1\n"
          ],
          "name": "stdout"
        },
        {
          "output_type": "display_data",
          "data": {
            "image/png": "[encoded data removed]",
            "text/plain": [
              "<Figure size 432x288 with 1 Axes>"
            ]
          },
          "metadata": {
            "tags": []
          }
        },
        {
          "output_type": "stream",
          "text": [
            "Image: 8 Predicted: 8 Actual: 1\n"
          ],
          "name": "stdout"
        },
        {
          "output_type": "display_data",
          "data": {
            "image/png": "[encoded data removed]",
            "text/plain": [
              "<Figure size 432x288 with 1 Axes>"
            ]
          },
          "metadata": {
            "tags": []
          }
        },
        {
          "output_type": "stream",
          "text": [
            "Image: 9 Predicted: 2 Actual: 1\n"
          ],
          "name": "stdout"
        },
        {
          "output_type": "display_data",
          "data": {
            "image/png": "[encoded data removed]",
            "text/plain": [
              "<Figure size 432x288 with 1 Axes>"
            ]
          },
          "metadata": {
            "tags": []
          }
        },
        {
          "output_type": "stream",
          "text": [
            "Image: 10 Predicted: 8 Actual: 9\n"
          ],
          "name": "stdout"
        },
        {
          "output_type": "display_data",
          "data": {
            "image/png": "[encoded data removed]",
            "text/plain": [
              "<Figure size 432x288 with 1 Axes>"
            ]
          },
          "metadata": {
            "tags": []
          }
        },
        {
          "output_type": "stream",
          "text": [
            "Image: 11 Predicted: 2 Actual: 1\n"
          ],
          "name": "stdout"
        },
        {
          "output_type": "display_data",
          "data": {
            "image/png": "[encoded data removed]",
            "text/plain": [
              "<Figure size 432x288 with 1 Axes>"
            ]
          },
          "metadata": {
            "tags": []
          }
        },
        {
          "output_type": "stream",
          "text": [
            "Image: 12 Predicted: 8 Actual: 1\n"
          ],
          "name": "stdout"
        },
        {
          "output_type": "display_data",
          "data": {
            "image/png": "[encoded data removed]",
            "text/plain": [
              "<Figure size 432x288 with 1 Axes>"
            ]
          },
          "metadata": {
            "tags": []
          }
        },
        {
          "output_type": "stream",
          "text": [
            "Image: 13 Predicted: 8 Actual: 4\n"
          ],
          "name": "stdout"
        },
        {
          "output_type": "display_data",
          "data": {
            "image/png": "[encoded data removed]",
            "text/plain": [
              "<Figure size 432x288 with 1 Axes>"
            ]
          },
          "metadata": {
            "tags": []
          }
        },
        {
          "output_type": "stream",
          "text": [
            "Image: 14 Predicted: 8 Actual: 1\n"
          ],
          "name": "stdout"
        },
        {
          "output_type": "display_data",
          "data": {
            "image/png": "[encoded data removed]",
            "text/plain": [
              "<Figure size 432x288 with 1 Axes>"
            ]
          },
          "metadata": {
            "tags": []
          }
        },
        {
          "output_type": "stream",
          "text": [
            "Image: 15 Predicted: 2 Actual: 1\n"
          ],
          "name": "stdout"
        },
        {
          "output_type": "display_data",
          "data": {
            "image/png": "[encoded data removed]",
            "text/plain": [
              "<Figure size 432x288 with 1 Axes>"
            ]
          },
          "metadata": {
            "tags": []
          }
        },
        {
          "output_type": "stream",
          "text": [
            "Image: 16 Predicted: 2 Actual: 7\n"
          ],
          "name": "stdout"
        },
        {
          "output_type": "display_data",
          "data": {
            "image/png": "[encoded data removed]",
            "text/plain": [
              "<Figure size 432x288 with 1 Axes>"
            ]
          },
          "metadata": {
            "tags": []
          }
        },
        {
          "output_type": "stream",
          "text": [
            "Image: 17 Predicted: 2 Actual: 1\n"
          ],
          "name": "stdout"
        },
        {
          "output_type": "display_data",
          "data": {
            "image/png": "[encoded data removed]",
            "text/plain": [
              "<Figure size 432x288 with 1 Axes>"
            ]
          },
          "metadata": {
            "tags": []
          }
        },
        {
          "output_type": "stream",
          "text": [
            "Image: 18 Predicted: 8 Actual: 1\n"
          ],
          "name": "stdout"
        },
        {
          "output_type": "display_data",
          "data": {
            "image/png": "[encoded data removed]",
            "text/plain": [
              "<Figure size 432x288 with 1 Axes>"
            ]
          },
          "metadata": {
            "tags": []
          }
        },
        {
          "output_type": "stream",
          "text": [
            "Image: 19 Predicted: 8 Actual: 1\n"
          ],
          "name": "stdout"
        },
        {
          "output_type": "display_data",
          "data": {
            "image/png": "[encoded data removed]",
            "text/plain": [
              "<Figure size 432x288 with 1 Axes>"
            ]
          },
          "metadata": {
            "tags": []
          }
        },
        {
          "output_type": "stream",
          "text": [
            "Image: 20 Predicted: 8 Actual: 1\n"
          ],
          "name": "stdout"
        },
        {
          "output_type": "display_data",
          "data": {
            "image/png": "[encoded data removed]",
            "text/plain": [
              "<Figure size 432x288 with 1 Axes>"
            ]
          },
          "metadata": {
            "tags": []
          }
        },
        {
          "output_type": "stream",
          "text": [
            "Image: 21 Predicted: 2 Actual: 7\n"
          ],
          "name": "stdout"
        },
        {
          "output_type": "display_data",
          "data": {
            "image/png": "[encoded data removed]",
            "text/plain": [
              "<Figure size 432x288 with 1 Axes>"
            ]
          },
          "metadata": {
            "tags": []
          }
        },
        {
          "output_type": "stream",
          "text": [
            "Image: 22 Predicted: 2 Actual: 7\n"
          ],
          "name": "stdout"
        },
        {
          "output_type": "display_data",
          "data": {
            "image/png": "[encoded data removed]",
            "text/plain": [
              "<Figure size 432x288 with 1 Axes>"
            ]
          },
          "metadata": {
            "tags": []
          }
        },
        {
          "output_type": "stream",
          "text": [
            "Image: 23 Predicted: 8 Actual: 1\n"
          ],
          "name": "stdout"
        },
        {
          "output_type": "display_data",
          "data": {
            "image/png": "[encoded data removed]",
            "text/plain": [
              "<Figure size 432x288 with 1 Axes>"
            ]
          },
          "metadata": {
            "tags": []
          }
        },
        {
          "output_type": "stream",
          "text": [
            "Image: 24 Predicted: 8 Actual: 1\n"
          ],
          "name": "stdout"
        },
        {
          "output_type": "display_data",
          "data": {
            "image/png": "[encoded data removed]",
            "text/plain": [
              "<Figure size 432x288 with 1 Axes>"
            ]
          },
          "metadata": {
            "tags": []
          }
        },
        {
          "output_type": "stream",
          "text": [
            "Image: 25 Predicted: 2 Actual: 1\n"
          ],
          "name": "stdout"
        },
        {
          "output_type": "display_data",
          "data": {
            "image/png": "[encoded data removed]",
            "text/plain": [
              "<Figure size 432x288 with 1 Axes>"
            ]
          },
          "metadata": {
            "tags": []
          }
        }
      ]
    }
  ]
}